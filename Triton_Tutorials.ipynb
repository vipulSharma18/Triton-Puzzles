{
  "nbformat": 4,
  "nbformat_minor": 0,
  "metadata": {
    "colab": {
      "provenance": [],
      "toc_visible": true,
      "authorship_tag": "ABX9TyMbhso/xbh7xv6jcSaogcao",
      "include_colab_link": true
    },
    "kernelspec": {
      "name": "python3",
      "display_name": "Python 3"
    },
    "language_info": {
      "name": "python"
    }
  },
  "cells": [
    {
      "cell_type": "markdown",
      "metadata": {
        "id": "view-in-github",
        "colab_type": "text"
      },
      "source": [
        "<a href=\"https://colab.research.google.com/github/vipulSharma18/Triton-Puzzles-And-Tutorials/blob/main/Triton_Tutorials.ipynb\" target=\"_parent\"><img src=\"https://colab.research.google.com/assets/colab-badge.svg\" alt=\"Open In Colab\"/></a>"
      ]
    },
    {
      "cell_type": "markdown",
      "source": [
        "## Practicing Triton Tutorials"
      ],
      "metadata": {
        "id": "DvbpazOO9Ro_"
      }
    },
    {
      "cell_type": "markdown",
      "source": [
        "Tutorial 1: Vector Addition\n",
        "\n",
        "https://triton-lang.org/main/getting-started/tutorials/01-vector-add.html#sphx-glr-getting-started-tutorials-01-vector-add-py"
      ],
      "metadata": {
        "id": "6hFWeW8X933r"
      }
    },
    {
      "cell_type": "code",
      "execution_count": null,
      "metadata": {
        "id": "sqfxFebz9QcW"
      },
      "outputs": [],
      "source": []
    },
    {
      "cell_type": "markdown",
      "source": [
        "Tutorial 2: Fused Softmax\n",
        "\n",
        "https://triton-lang.org/main/getting-started/tutorials/02-fused-softmax.html#sphx-glr-getting-started-tutorials-02-fused-softmax-py"
      ],
      "metadata": {
        "id": "vm85nt5R98PE"
      }
    },
    {
      "cell_type": "code",
      "source": [],
      "metadata": {
        "id": "5hmwZ38899jv"
      },
      "execution_count": null,
      "outputs": []
    },
    {
      "cell_type": "markdown",
      "source": [
        "Tutorial 3: Matrix Multiplication\n",
        "\n",
        "https://triton-lang.org/main/getting-started/tutorials/03-matrix-multiplication.html#sphx-glr-getting-started-tutorials-03-matrix-multiplication-py"
      ],
      "metadata": {
        "id": "h9zzQUzp9_VY"
      }
    },
    {
      "cell_type": "code",
      "source": [],
      "metadata": {
        "id": "ieS4zCEH-Asj"
      },
      "execution_count": null,
      "outputs": []
    },
    {
      "cell_type": "markdown",
      "source": [
        "Tutorial 4: Low-Memory Dropout\n",
        "\n",
        "https://triton-lang.org/main/getting-started/tutorials/04-low-memory-dropout.html#sphx-glr-getting-started-tutorials-04-low-memory-dropout-py"
      ],
      "metadata": {
        "id": "8G8r8x2R-BQa"
      }
    },
    {
      "cell_type": "code",
      "source": [],
      "metadata": {
        "id": "j4nMsmy5-Dx3"
      },
      "execution_count": null,
      "outputs": []
    },
    {
      "cell_type": "markdown",
      "source": [
        "Tutorial 5: Layer Normalization\n",
        "\n",
        "https://triton-lang.org/main/getting-started/tutorials/05-layer-norm.html#sphx-glr-getting-started-tutorials-05-layer-norm-py"
      ],
      "metadata": {
        "id": "H6Xs3tBF-ESu"
      }
    },
    {
      "cell_type": "code",
      "source": [],
      "metadata": {
        "id": "wzG__Muh-GzY"
      },
      "execution_count": null,
      "outputs": []
    },
    {
      "cell_type": "markdown",
      "source": [
        "Tutorial 6: Fused Attention (FA2)\n",
        "\n",
        "https://triton-lang.org/main/getting-started/tutorials/06-fused-attention.html#sphx-glr-getting-started-tutorials-06-fused-attention-py"
      ],
      "metadata": {
        "id": "cxGqXTgn-HZs"
      }
    },
    {
      "cell_type": "code",
      "source": [],
      "metadata": {
        "id": "PNJERzq5-K0K"
      },
      "execution_count": null,
      "outputs": []
    },
    {
      "cell_type": "markdown",
      "source": [
        "Tutorial 7: Libdevice (tl.extra.libdevice) function\n",
        "\n",
        "https://triton-lang.org/main/getting-started/tutorials/07-extern-functions.html#sphx-glr-getting-started-tutorials-07-extern-functions-py"
      ],
      "metadata": {
        "id": "u_jN285--LTK"
      }
    },
    {
      "cell_type": "code",
      "source": [],
      "metadata": {
        "id": "CwGpAqMh-OEz"
      },
      "execution_count": null,
      "outputs": []
    },
    {
      "cell_type": "markdown",
      "source": [
        "Tutorial 8: Group GEMM\n",
        "\n",
        "https://triton-lang.org/main/getting-started/tutorials/08-grouped-gemm.html#sphx-glr-getting-started-tutorials-08-grouped-gemm-py"
      ],
      "metadata": {
        "id": "v4nSXe4z-P8f"
      }
    },
    {
      "cell_type": "code",
      "source": [],
      "metadata": {
        "id": "NSdg4ozz-Q_i"
      },
      "execution_count": null,
      "outputs": []
    },
    {
      "cell_type": "markdown",
      "source": [
        "Tutorial 9: Block Scaled Matrix Multiplication\n",
        "\n",
        "https://triton-lang.org/main/getting-started/tutorials/10-block-scaled-matmul.html#sphx-glr-getting-started-tutorials-10-block-scaled-matmul-py"
      ],
      "metadata": {
        "id": "QkmQKH4b-Sw5"
      }
    },
    {
      "cell_type": "code",
      "source": [],
      "metadata": {
        "id": "xrdyyvXB-Tq0"
      },
      "execution_count": null,
      "outputs": []
    },
    {
      "cell_type": "markdown",
      "source": [
        "Tutorial 10: Persistent Matmul\n",
        "\n",
        "https://triton-lang.org/main/getting-started/tutorials/09-persistent-matmul.html#sphx-glr-getting-started-tutorials-09-persistent-matmul-py"
      ],
      "metadata": {
        "id": "OI-JoBv2-ULa"
      }
    },
    {
      "cell_type": "code",
      "source": [],
      "metadata": {
        "id": "3Dt2V7YD-WXw"
      },
      "execution_count": null,
      "outputs": []
    }
  ]
}